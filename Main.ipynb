{
 "cells": [
  {
   "cell_type": "code",
   "execution_count": 1,
   "metadata": {},
   "outputs": [
    {
     "name": "stderr",
     "output_type": "stream",
     "text": [
      "c:\\users\\rowantarek\\appdata\\local\\programs\\python\\python37\\lib\\site-packages\\sklearn\\linear_model\\logistic.py:433: FutureWarning: Default solver will be changed to 'lbfgs' in 0.22. Specify a solver to silence this warning.\n",
      "  FutureWarning)\n"
     ]
    },
    {
     "name": "stdout",
     "output_type": "stream",
     "text": [
      "{'C': 1.6160528179194882}\n",
      "0.7285498489425982\n",
      "not so fast\n",
      "0.739274924471299\n"
     ]
    }
   ],
   "source": [
    "%matplotlib notebook\n",
    "import matplotlib.pyplot as plt\n",
    "\n",
    "from actual_work.preprocessing import Preprocessing\n",
    "from actual_work.classifier import Classifier\n",
    "\n",
    "prep = Preprocessing(\"offenseval-training-v1.tsv\")\n",
    "\"\"\"\n",
    "[1] SVMClassifier\n",
    "[2] RandomForest_Classifier\n",
    "[3] LogisticalRegression_Classifier\n",
    "[4] NaiveBayesClassifier\n",
    "[5] KNNClassifier\n",
    "[6] DTClassifier\n",
    "\"\"\"\n",
    "clf = Classifier(prep.train_tweets, prep.train_labels, prep.test_tweets, prep.test_labels,3)\n",
    "\n",
    "# Tuning(prep.train_tweets,prep.train_labels)"
   ]
  },
  {
   "cell_type": "code",
   "execution_count": null,
   "metadata": {},
   "outputs": [],
   "source": []
  },
  {
   "cell_type": "code",
   "execution_count": null,
   "metadata": {},
   "outputs": [],
   "source": []
  },
  {
   "cell_type": "code",
   "execution_count": null,
   "metadata": {},
   "outputs": [],
   "source": []
  }
 ],
 "metadata": {
  "kernelspec": {
   "display_name": "Python 3",
   "language": "python",
   "name": "python3"
  },
  "language_info": {
   "codemirror_mode": {
    "name": "ipython",
    "version": 3
   },
   "file_extension": ".py",
   "mimetype": "text/x-python",
   "name": "python",
   "nbconvert_exporter": "python",
   "pygments_lexer": "ipython3",
   "version": "3.7.0b3"
  }
 },
 "nbformat": 4,
 "nbformat_minor": 2
}
