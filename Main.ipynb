{
 "cells": [
  {
   "cell_type": "code",
   "execution_count": 1,
   "metadata": {},
   "outputs": [
    {
     "data": {
      "text/plain": [
       "<Figure size 640x480 with 1 Axes>"
      ]
     },
     "metadata": {},
     "output_type": "display_data"
    },
    {
     "name": "stdout",
     "output_type": "stream",
     "text": [
      "Optimal C: 0.17\n",
      "0.7398791540785499\n"
     ]
    }
   ],
   "source": [
    "from actual_work.preprocessing import Preprocessing\n",
    "from actual_work.classifier import Classifier\n",
    "\n",
    "prep = Preprocessing(\"offenseval-training-v1.tsv\")\n",
    "\"\"\"\n",
    "[1] SVMClassifier\n",
    "[2] RandomForest_Classifier\n",
    "[3] LogisticalRegression_Classifier\n",
    "[4] NaiveBayesClassifier\n",
    "[5] KNNClassifier\n",
    "[6] DTClassifier\n",
    "\"\"\"\n",
    "clf = Classifier(prep.train_tweets, prep.train_labels, prep.test_tweets, prep.test_labels, 1)"
   ]
  },
  {
   "cell_type": "code",
   "execution_count": null,
   "metadata": {},
   "outputs": [],
   "source": []
  }
 ],
 "metadata": {
  "kernelspec": {
   "display_name": "Python 3",
   "language": "python",
   "name": "python3"
  },
  "language_info": {
   "codemirror_mode": {
    "name": "ipython",
    "version": 3
   },
   "file_extension": ".py",
   "mimetype": "text/x-python",
   "name": "python",
   "nbconvert_exporter": "python",
   "pygments_lexer": "ipython3",
   "version": "3.7.0"
  }
 },
 "nbformat": 4,
 "nbformat_minor": 2
}
