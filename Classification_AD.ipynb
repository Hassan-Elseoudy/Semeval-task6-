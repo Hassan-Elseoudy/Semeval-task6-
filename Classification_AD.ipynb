{
 "cells": [
  {
   "cell_type": "code",
   "execution_count": 1,
   "metadata": {},
   "outputs": [],
   "source": [
    "import matplotlib.pyplot as plt\n",
    "import collections\n",
    "import numpy as np\n",
    "import pandas as pd\n",
    "import csv\n",
    "import random\n",
    "import nltk.stem\n",
    "from sklearn.svm import SVC\n",
    "from sklearn.ensemble import VotingClassifier\n",
    "from sklearn.metrics import confusion_matrix\n",
    "from sklearn.feature_extraction.text import TfidfVectorizer\n",
    "from sklearn.svm import LinearSVC\n",
    "from sklearn.metrics import accuracy_score\n",
    "from sklearn.ensemble import RandomForestClassifier\n",
    "from sklearn.ensemble import RandomForestClassifier\n",
    "from sklearn.linear_model import LogisticRegression\n",
    "from sklearn.naive_bayes import MultinomialNB\n",
    "from sklearn.neighbors import KNeighborsClassifier\n",
    "from sklearn.tree import DecisionTreeClassifier\n",
    "from sklearn.model_selection import RandomizedSearchCV\n",
    "from sklearn.model_selection import cross_val_score\n",
    "from scipy.stats import expon\n",
    "from sklearn.model_selection import train_test_split\n",
    "import warnings \n",
    "warnings.filterwarnings(\"ignore\", category=DeprecationWarning)"
   ]
  },
  {
   "cell_type": "code",
   "execution_count": 2,
   "metadata": {},
   "outputs": [],
   "source": [
    "class Preprocessing:\n",
    "    def __init__(self):\n",
    "        self.lemmatizer_object = nltk.stem.WordNetLemmatizer()\n",
    "        self.labels = []\n",
    "        self.tweets = []\n",
    "        Preprocessing.readFile(self,\"offenseval-training-v1.tsv\")\n",
    "        Preprocessing.readFile(self,\"labeled_data.tsv\")\n",
    "        Preprocessing.divide_data_set(self)\n",
    "\n",
    "    def remove_noise(self,input_text):\n",
    "        noise_list = [\"a\", \"about\", \"after\", \"all\", \"also\", \"an\", \"another\", \"any\", \"and\", \"are\", \"as\", \"and\", \"at\",\n",
    "                      \"be\",\n",
    "                      \"because\", \"been\", \"before\", \"being\", \"between\", \"but\", \"both\", \"by\", \"came\", \"can\", \"come\",\n",
    "                      \"could \",\n",
    "                      \"did\", \"do\", \"each\", \"even\", \"for\", \"from\", \"further\", \"furthermore\", \"get\", \"got\", \"has\", \"had\",\n",
    "                      \"he\", \"have\", \"her\", \"here\", \"him\", \"himself\", \"his\", \"how\", \"hi\", \"however\", \"i\", \"if\", \"in\",\n",
    "                      \"into\",\n",
    "                      \"is\", \"it\", \"its\", \"indeed\", \"just\", \"like\", \"made\", \"many\", \"me\", \"might\", \"more\", \"moreover\",\n",
    "                      \"most\", \"much\", \"must\", \"my never\", \"not\", \"now of\", \"on\", \"only\", \"other\", \"our\", \"out\", \"or\",\n",
    "                      \"over\", \"said\", \"same\", \"see\", \"should\", \"since\", \"she\", \"some\", \"still\", \"such\", \"take\", \"than\",\n",
    "                      \"that\", \"the\", \"their\", \"them\", \"then\", \"there\", \"these\", \"therefore\", \"they\", \"this\", \"those\",\n",
    "                      \"through\", \"to\", \"too\", \"thus\", \"under\", \"up\", \"was\", \"way\", \"we\", \"well\", \"were\", \"what\", \"when\",\n",
    "                      \"where\", \"which\", \"while\", \"who\", \"will\", \"with\", \"would\", \"your\", \"null\"]\n",
    "        words = input_text.split()  # Split words by space\n",
    "        noise_free_words = [word for word in words if word.lower() not in noise_list]  # Get a list of non-noise words\n",
    "        noise_free_text = \" \".join(noise_free_words)  # Get a string of non-noise words\n",
    "        return noise_free_text\n",
    "\n",
    "    def remove_regex(self,input_text):\n",
    "        # split tweet by space\n",
    "        words = input_text.split()\n",
    "        regex_free_text = \"\"\n",
    "        # check if word is alpha(contain letters only) , then add it to regex_free_text\n",
    "        for word in words:\n",
    "            if word.isalpha():\n",
    "                # Lemmatization, on the other hand, is an organized & step by step procedure of obtaining\n",
    "                # the root form of the word, it makes use of vocabulary (dictionary importance of words)\n",
    "                # and morphological analysis (word structure and grammar relations).\n",
    "                # reduces the inflected words properly ensuring that the root word belongs to the language\n",
    "                # pos=\"V\"-->to give a root for each word !\n",
    "                regex_free_text += self.lemmatizer_object.lemmatize(word, pos=\"v\")  # V Msdr\n",
    "                regex_free_text += \" \"\n",
    "        return regex_free_text\n",
    "\n",
    "    def readFile(self,filename):\n",
    "        my_file = open(filename, encoding=\"utf-8\")\n",
    "        # return value of csv file is an iterator\n",
    "        read = csv.reader(my_file, delimiter='\\t')\n",
    "        # splitting = read.split('\\t')\n",
    "        flag = 0\n",
    "        # flag ---> used to skip the header of the file\n",
    "        # column one for tweets , column 2 for our ouput(NOT or OFF)\n",
    "        for row in read:\n",
    "            if flag == 0:\n",
    "                flag = 1\n",
    "                continue;\n",
    "            self.tweets.append(row[1])\n",
    "            self.labels.append(row[2])\n",
    "\n",
    "    def divide_data_set(self):\n",
    "        # loop for each tweet remove regex & noise\n",
    "        for tweet in range(0, len(self.tweets)):\n",
    "            self.tweets[tweet] = Preprocessing.remove_regex(self,self.tweets[tweet])\n",
    "            self.tweets[tweet] = Preprocessing.remove_noise(self,self.tweets[tweet])\n",
    "        # we have to divide our dataset into 2 parts (training data and test data)\n",
    "  #      c = list(zip(self.tweets, self.labels))\n",
    "   #     random.shuffle(c)\n",
    "   #     self.tweets, self.labels = zip(*c)\n",
    "        lenofLabel = (int)(8*(len(self.labels)) / 10)\n",
    "        self.lenofTweets = (int)(8*(len(self.tweets)) / 10)\n",
    "        self.train_labels = self.labels[:lenofLabel]\n",
    "        self.test_labels = self.labels[lenofLabel:]\n",
    "        self.train_tweets = self.tweets[:lenofLabel]\n",
    "        self.test_tweets = self.tweets[lenofLabel:]    "
   ]
  },
  {
   "cell_type": "code",
   "execution_count": 3,
   "metadata": {},
   "outputs": [
    {
     "name": "stdout",
     "output_type": "stream",
     "text": [
      "Data is pre-processed\n"
     ]
    }
   ],
   "source": [
    "    prep = Preprocessing()\n",
    "    train_labels = prep.train_labels\n",
    "    test_labels = prep.test_labels\n",
    "    vectorizer = TfidfVectorizer()\n",
    "    features_train = vectorizer.fit_transform(prep.train_tweets)\n",
    "    features_test = vectorizer.transform(prep.test_tweets)\n",
    "    print(\"Data is pre-processed\")"
   ]
  },
  {
   "cell_type": "code",
   "execution_count": 4,
   "metadata": {},
   "outputs": [
    {
     "name": "stdout",
     "output_type": "stream",
     "text": [
      "0.3010511928286884\n"
     ]
    },
    {
     "data": {
      "image/png": "[encoded data removed]",
      "text/plain": [
       "<Figure size 432x288 with 1 Axes>"
      ]
     },
     "metadata": {
      "needs_background": "light"
     },
     "output_type": "display_data"
    },
    {
     "name": "stdout",
     "output_type": "stream",
     "text": [
      "0.9472715318869165\n",
      "[[1129  136]\n",
      " [ 265 6075]]\n"
     ]
    }
   ],
   "source": [
    "    #SVM_Classifier\n",
    "    np.set_printoptions(formatter={'float_kind':lambda x: \"%.4f\" % x})\n",
    "    ls = LinearSVC()\n",
    "    ls_random = RandomizedSearchCV(estimator = ls, param_distributions = {'C': expon()}, n_iter = 50, cv = 10, verbose=0)\n",
    "    ls_random.fit(features_train, train_labels)     \n",
    "    scores=[]\n",
    "    Cs=[]\n",
    "    finalC=[]\n",
    "    scores=list(ls_random.cv_results_['mean_test_score'])\n",
    "    Cs=list(ls_random.cv_results_['params'])\n",
    "    for c in Cs:\n",
    "        if 'C' in c:\n",
    "            finalC.append(c['C'])\n",
    "   # print(scores)\n",
    "   # print(finalC)\n",
    "    ordered_Cs = []\n",
    "    ordered_scores = []\n",
    "    d = {finalC[i] : scores[i] for i in range(0,len(finalC))}\n",
    "    optimal_c = -1\n",
    "    max_acc = -1\n",
    "    for k,v in collections.OrderedDict(sorted(d.items())).items():\n",
    "        ordered_Cs.append(k)\n",
    "        ordered_scores.append(v)\n",
    "        if v >= max_acc:\n",
    "            max_acc = v\n",
    "            optimal_c = k\n",
    "    print(optimal_c)\n",
    "    plt.plot(ordered_Cs, ordered_scores)\n",
    "    plt.xlabel('Value of C')\n",
    "    plt.ylabel('Score')\n",
    "    plt.show()\n",
    "    #Rowan parameters ---->\n",
    "    clf = LinearSVC(C = optimal_c,random_state=0, tol=1e-5)\n",
    "    clf.fit(features_train, train_labels)\n",
    "    output_labels = clf.predict(features_test)\n",
    "    print(accuracy_score(output_labels, test_labels))\n",
    "    print(confusion_matrix(test_labels, output_labels))\n",
    "    "
   ]
  },
  {
   "cell_type": "code",
   "execution_count": 5,
   "metadata": {},
   "outputs": [
    {
     "name": "stderr",
     "output_type": "stream",
     "text": [
      "/home/smsm/anaconda3/lib/python3.7/site-packages/sklearn/linear_model/logistic.py:432: FutureWarning: Default solver will be changed to 'lbfgs' in 0.22. Specify a solver to silence this warning.\n",
      "  FutureWarning)\n"
     ]
    },
    {
     "name": "stdout",
     "output_type": "stream",
     "text": [
      "{'C': 1.5665901770072317}\n",
      "0.8090275494772832\n"
     ]
    },
    {
     "data": {
      "image/png": "[encoded data removed]",
      "text/plain": [
       "<Figure size 432x288 with 1 Axes>"
      ]
     },
     "metadata": {
      "needs_background": "light"
     },
     "output_type": "display_data"
    },
    {
     "name": "stdout",
     "output_type": "stream",
     "text": [
      "0.9487179487179487\n",
      "[[1127  138]\n",
      " [ 252 6088]]\n"
     ]
    }
   ],
   "source": [
    "    #Logistic Regression Classifier\n",
    "    np.set_printoptions(formatter={'float_kind':lambda x: \"%.4f\" % x})\n",
    "    lr = LogisticRegression()\n",
    "    lr_params = {'C': expon()}\n",
    "    lr_random = RandomizedSearchCV(estimator = lr, param_distributions = lr_params, n_iter = 50, cv = 5, verbose=0)\n",
    "    lr_random.fit(features_train, train_labels)\n",
    "    print(lr_random.best_params_)\n",
    "    print(lr_random.best_score_)      \n",
    "    scores=[]\n",
    "    Cs=[]\n",
    "    finalC=[]\n",
    "    scores=list(lr_random.cv_results_['mean_test_score'])\n",
    "    Cs=list(lr_random.cv_results_['params'])\n",
    "    for c in Cs:\n",
    "        if 'C' in c:\n",
    "            finalC.append(c['C'])\n",
    "   # print(scores)\n",
    "   # print(finalC)\n",
    "    ordered_Cs = []\n",
    "    ordered_scores = []\n",
    "    d = {finalC[i] : scores[i] for i in range(0,len(finalC))}\n",
    "    for k,v in collections.OrderedDict(sorted(d.items())).items():\n",
    "        ordered_Cs.append(k)\n",
    "        ordered_scores.append(v)\n",
    "    plt.plot(ordered_Cs, ordered_scores)\n",
    "    plt.xlabel('Value of C')\n",
    "    plt.ylabel('Score')\n",
    "    plt.show()\n",
    "    #Rowan parameters ---->       \n",
    "    clf = LogisticRegression(ordered_Cs[-1], solver='liblinear', multi_class='auto')\n",
    "    clf.fit(features_train, train_labels)\n",
    "    output_labels = clf.predict(features_test)\n",
    "    print(accuracy_score(output_labels, test_labels))\n",
    "    print(confusion_matrix(test_labels, output_labels))"
   ]
  },
  {
   "cell_type": "code",
   "execution_count": 9,
   "metadata": {},
   "outputs": [
    {
     "name": "stderr",
     "output_type": "stream",
     "text": [
      "/home/smsm/anaconda3/lib/python3.7/site-packages/sklearn/externals/joblib/externals/loky/process_executor.py:686: UserWarning: A worker stopped while some jobs were given to the executor. This can be caused by a too short worker timeout or by a memory leak.\n",
      "  \"timeout or by a memory leak.\", UserWarning\n"
     ]
    },
    {
     "name": "stdout",
     "output_type": "stream",
     "text": [
      "{'n_estimators': 800, 'min_samples_split': 5, 'min_samples_leaf': 2, 'max_features': 'auto', 'max_depth': None, 'bootstrap': True}\n"
     ]
    },
    {
     "ename": "NameError",
     "evalue": "name 'labels_train' is not defined",
     "output_type": "error",
     "traceback": [
      "\u001b[0;31m---------------------------------------------------------------------------\u001b[0m",
      "\u001b[0;31mNameError\u001b[0m                                 Traceback (most recent call last)",
      "\u001b[0;32m<ipython-input-9-31c7e48f6538>\u001b[0m in \u001b[0;36m<module>\u001b[0;34m()\u001b[0m\n\u001b[1;32m     36\u001b[0m clf = RandomForestClassifier(n_estimators=600,min_samples_split = 2, min_samples_leaf = 2,max_features = 'sqrt',         \n\u001b[1;32m     37\u001b[0m max_depth = 110)\n\u001b[0;32m---> 38\u001b[0;31m \u001b[0mclf\u001b[0m\u001b[0;34m.\u001b[0m\u001b[0mfit\u001b[0m\u001b[0;34m(\u001b[0m\u001b[0mfeatures_train\u001b[0m\u001b[0;34m,\u001b[0m \u001b[0mlabels_train\u001b[0m\u001b[0;34m)\u001b[0m\u001b[0;34m\u001b[0m\u001b[0m\n\u001b[0m\u001b[1;32m     39\u001b[0m \u001b[0moutput_labels\u001b[0m \u001b[0;34m=\u001b[0m \u001b[0mclf\u001b[0m\u001b[0;34m.\u001b[0m\u001b[0mpredict\u001b[0m\u001b[0;34m(\u001b[0m\u001b[0mfeatures_test\u001b[0m\u001b[0;34m)\u001b[0m\u001b[0;34m\u001b[0m\u001b[0m\n\u001b[1;32m     40\u001b[0m \u001b[0mprint\u001b[0m\u001b[0;34m(\u001b[0m\u001b[0maccuracy_score\u001b[0m\u001b[0;34m(\u001b[0m\u001b[0moutput_labels\u001b[0m\u001b[0;34m,\u001b[0m \u001b[0mtest_labels\u001b[0m\u001b[0;34m)\u001b[0m\u001b[0;34m)\u001b[0m\u001b[0;34m\u001b[0m\u001b[0m\n",
      "\u001b[0;31mNameError\u001b[0m: name 'labels_train' is not defined"
     ]
    }
   ],
   "source": [
    "    #Random-Forest Classifier\n",
    "    \n",
    "    # Number of trees in random forest\n",
    "    n_estimators = [int(x) for x in np.linspace(start = 200, stop = 2000, num = 10)]\n",
    "    # Number of features to consider at every split\n",
    "    max_features = ['auto', 'sqrt']\n",
    "    # Maximum number of levels in tree\n",
    "    max_depth = [int(x) for x in np.linspace(10, 110, num = 11)]\n",
    "    max_depth.append(None)\n",
    "    # Minimum number of samples required to split a node\n",
    "    min_samples_split = [2, 5, 10]\n",
    "    # Minimum number of samples required at each leaf node\n",
    "    min_samples_leaf = [1, 2, 4]\n",
    "    # Method of selecting samples for training each tree\n",
    "    bootstrap = [True, False]\n",
    "    # Create the random grid\n",
    "    random_grid = {'n_estimators': n_estimators,\n",
    "                   'max_features': max_features,\n",
    "                   'max_depth': max_depth,\n",
    "                   'min_samples_split': min_samples_split,\n",
    "                   'min_samples_leaf': min_samples_leaf,\n",
    "                   'bootstrap': bootstrap}\n",
    "    \n",
    "    # Use the random grid to search for best hyperparameters\n",
    "    # First create the base model to tune\n",
    "    rf = RandomForestClassifier()\n",
    "    # Random search of parameters, using 3 fold cross validation, \n",
    "    # search across 100 different combinations, and use all available cores\n",
    "    #cv---> 3dad el folds , n_iter kam combination ygrbha , estimator eh hwa classifier el 7y3ml tuning , n_jobs 3dad el cores                 el 7ysh3'lha verbose--->btktb m3lomat 3n running\n",
    "    rf_random = RandomizedSearchCV(estimator = rf, param_distributions = random_grid, n_iter = 50, cv = 4, verbose=0,              \n",
    "    random_state=42, n_jobs=-1, refit=True)\n",
    "    # Fit the random search models\n",
    "    rf_random.fit(features_train, train_labels)\n",
    "    print(rf_random.best_params_)\n",
    "    #Merna's parameters ---->\n",
    "    clf = RandomForestClassifier(n_estimators=800,min_samples_split = 5, min_samples_leaf = 2,max_features = 'auto',         \n",
    "    max_depth = 110)\n",
    "    clf.fit(features_train, train_labels)  \n",
    "    output_labels = clf.predict(features_test)\n",
    "    print(accuracy_score(output_labels, test_labels))\n",
    "    print(confusion_matrix(test_labels, output_labels))"
   ]
  },
  {
   "cell_type": "code",
   "execution_count": 6,
   "metadata": {},
   "outputs": [
    {
     "name": "stdout",
     "output_type": "stream",
     "text": [
      "0.8983563445101906\n",
      "[[ 557  708]\n",
      " [  65 6275]]\n"
     ]
    }
   ],
   "source": [
    "    #Naive-Bayes Classifier\n",
    "    clf = MultinomialNB()\n",
    "    clf.fit(features_train, train_labels)\n",
    "    output_labels = clf.predict(features_test)\n",
    "    print(accuracy_score(output_labels, test_labels))\n",
    "    print(confusion_matrix(test_labels, output_labels))"
   ]
  },
  {
   "cell_type": "code",
   "execution_count": 7,
   "metadata": {},
   "outputs": [
    {
     "name": "stdout",
     "output_type": "stream",
     "text": [
      "1\n"
     ]
    },
    {
     "data": {
      "image/png": "[encoded data removed]",
      "text/plain": [
       "<Figure size 432x288 with 1 Axes>"
      ]
     },
     "metadata": {
      "needs_background": "light"
     },
     "output_type": "display_data"
    },
    {
     "name": "stdout",
     "output_type": "stream",
     "text": [
      "0.5101906640368179\n",
      "[[1143  122]\n",
      " [3603 2737]]\n"
     ]
    }
   ],
   "source": [
    "    #KNN Classifier\n",
    "    neighbors = list(range(1,100))\n",
    "    cv_scores = []\n",
    "    for k in neighbors:\n",
    "        knn = KNeighborsClassifier(n_neighbors=k)\n",
    "        scores = cross_val_score(knn, features_train, train_labels, cv=10, scoring='accuracy')\n",
    "        cv_scores.append(scores.mean())\n",
    "    MSE = [1 - x for x in cv_scores]\n",
    "    optimal_k = neighbors[MSE.index(min(MSE))]\n",
    "    print(optimal_k)\n",
    "    plt.plot(neighbors, cv_scores)\n",
    "    plt.xlabel('Number of Neighbors K')\n",
    "    plt.ylabel('Score')\n",
    "    plt.show()\n",
    "    clf = KNeighborsClassifier(n_neighbors = optimal_k)\n",
    "    clf.fit(features_train, train_labels)\n",
    "    output_labels = clf.predict(features_test)\n",
    "    print(accuracy_score(output_labels,test_labels))\n",
    "    print(confusion_matrix(test_labels, output_labels))"
   ]
  },
  {
   "cell_type": "code",
   "execution_count": 8,
   "metadata": {},
   "outputs": [
    {
     "name": "stdout",
     "output_type": "stream",
     "text": [
      "Gini: 57\n",
      "\n"
     ]
    },
    {
     "data": {
      "image/png": "[encoded data removed]",
      "text/plain": [
       "<Figure size 432x288 with 1 Axes>"
      ]
     },
     "metadata": {
      "needs_background": "light"
     },
     "output_type": "display_data"
    },
    {
     "data": {
      "image/png": "[encoded data removed]",
      "text/plain": [
       "<Figure size 432x288 with 1 Axes>"
      ]
     },
     "metadata": {
      "needs_background": "light"
     },
     "output_type": "display_data"
    },
    {
     "name": "stdout",
     "output_type": "stream",
     "text": [
      "0.9380670611439842\n",
      "[[1178   87]\n",
      " [ 384 5956]]\n"
     ]
    }
   ],
   "source": [
    "    #Decision-Trees Classifier\n",
    "    depth = list(range(1,100))\n",
    "    cv_scores_gini = []\n",
    "    cv_scores_entropy = []\n",
    "    ans = \"\"\n",
    "    for m in depth:\n",
    "        dt_gini = DecisionTreeClassifier(max_depth = m)\n",
    "        dt_entropy = DecisionTreeClassifier(criterion = 'entropy',max_depth = m)\n",
    "        scores_gini = cross_val_score(dt_gini, features_train, train_labels, cv=5, scoring='accuracy')\n",
    "        scores_entropy = cross_val_score(dt_gini, features_train, train_labels, cv=5, scoring='accuracy')\n",
    "        cv_scores_gini.append(scores_gini.mean())\n",
    "        cv_scores_entropy.append(scores_entropy.mean())\n",
    "    MSE_entropy = [1 - x for x in cv_scores_entropy]\n",
    "    MSE_gini = [1 - x for x in cv_scores_gini]\n",
    "    optimal_d_entropy = depth[MSE_entropy.index(min(MSE_entropy))]\n",
    "    optimal_d_gini = depth[MSE_gini.index(min(MSE_gini))]\n",
    "    if(optimal_d_entropy >= optimal_d_gini):\n",
    "        print(\"Entropy: \" + str(optimal_d_entropy) + \"\\n\")\n",
    "        ans = \"entropy\"\n",
    "    else:\n",
    "        print(\"Gini: \" + str(optimal_d_gini) + \"\\n\")\n",
    "        ans = \"gini\"\n",
    "    plot1, = plt.plot(depth, cv_scores_entropy, label ='Entropy')\n",
    "    plt.xlabel('Tree depth')\n",
    "    plt.ylabel('Score')\n",
    "    plt.show()\n",
    "    plot2, = plt.plot(depth, cv_scores_gini, 'r+', label = 'Gini')\n",
    "    plt.xlabel('Tree depth')\n",
    "    plt.ylabel('Score')\n",
    "    plt.legend(handles=[plot1, plot2])\n",
    "    plt.show()\n",
    "    tree_clf = DecisionTreeClassifier(criterion = str(ans) , max_depth = int(max([optimal_d_entropy,optimal_d_gini])))\n",
    "    tree_clf.fit(features_train, train_labels)\n",
    "    output_labels = tree_clf.predict(features_test)\n",
    "    print(accuracy_score(output_labels,test_labels))\n",
    "    print(confusion_matrix(test_labels, output_labels))\n"
   ]
  },
  {
   "cell_type": "code",
   "execution_count": 10,
   "metadata": {},
   "outputs": [
    {
     "name": "stdout",
     "output_type": "stream",
     "text": [
      "0.9466140696909928\n"
     ]
    }
   ],
   "source": [
    "logistic = LogisticRegression(C=1.56, solver='liblinear', multi_class='auto')\n",
    "randomForest = RandomForestClassifier(n_estimators=800,min_samples_split = 5, min_samples_leaf = 2,max_features = 'auto',         \n",
    "    max_depth = None)\n",
    "svm = SVC(C=0.30105,kernel='linear',probability=True)\n",
    "KNN = KNeighborsClassifier(n_neighbors = 44)\n",
    "nb = MultinomialNB()\n",
    "tree_clf = DecisionTreeClassifier(criterion = \"entropy\" , max_depth = 56)\n",
    "voting_clf = VotingClassifier(\n",
    "estimators=[('lr', logistic), ('rf', randomForest),('nb',nb),('svm',svm)],voting='soft')\n",
    "voting_clf.fit(features_train, train_labels)\n",
    "output_labels = voting_clf.predict(features_test)\n",
    "print(accuracy_score(output_labels,test_labels))"
   ]
  },
  {
   "cell_type": "code",
   "execution_count": null,
   "metadata": {},
   "outputs": [],
   "source": []
  }
 ],
 "metadata": {
  "kernelspec": {
   "display_name": "Python 3",
   "language": "python",
   "name": "python3"
  },
  "language_info": {
   "codemirror_mode": {
    "name": "ipython",
    "version": 3
   },
   "file_extension": ".py",
   "mimetype": "text/x-python",
   "name": "python",
   "nbconvert_exporter": "python",
   "pygments_lexer": "ipython3",
   "version": "3.7.0"
  }
 },
 "nbformat": 4,
 "nbformat_minor": 2
}
