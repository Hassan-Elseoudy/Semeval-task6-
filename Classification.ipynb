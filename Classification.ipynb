{
 "cells": [
  {
   "cell_type": "code",
   "execution_count": 6,
   "metadata": {},
   "outputs": [],
   "source": [
    "import matplotlib.pyplot as plt\n",
    "import collections\n",
    "import numpy as np\n",
    "import pandas as pd\n",
    "import csv\n",
    "import nltk.stem\n",
    "from sklearn.metrics import confusion_matrix\n",
    "from sklearn.feature_extraction.text import TfidfVectorizer\n",
    "from sklearn.svm import LinearSVC\n",
    "from sklearn.metrics import accuracy_score\n",
    "from sklearn.ensemble import RandomForestClassifier\n",
    "from sklearn.linear_model import LogisticRegression\n",
    "from sklearn.naive_bayes import MultinomialNB\n",
    "from sklearn.neighbors import KNeighborsClassifier\n",
    "from sklearn.tree import DecisionTreeClassifier\n",
    "from sklearn.model_selection import RandomizedSearchCV\n",
    "from sklearn.model_selection import cross_val_score\n",
    "from scipy.stats import expon"
   ]
  },
  {
   "cell_type": "code",
   "execution_count": 7,
   "metadata": {},
   "outputs": [],
   "source": [
    "class Preprocessing:\n",
    "    def __init__(self):\n",
    "        self.lemmatizer_object = nltk.stem.WordNetLemmatizer()\n",
    "        self.labels = []\n",
    "        self.tweets = []\n",
    "        Preprocessing.readFile(self,\"offenseval-training-v1.tsv\")\n",
    "        Preprocessing.divide_data_set(self)\n",
    "\n",
    "    def remove_noise(self,input_text):\n",
    "        noise_list = [\"a\", \"about\", \"after\", \"all\", \"also\", \"an\", \"another\", \"any\", \"and\", \"are\", \"as\", \"and\", \"at\",\n",
    "                      \"be\",\n",
    "                      \"because\", \"been\", \"before\", \"being\", \"between\", \"but\", \"both\", \"by\", \"came\", \"can\", \"come\",\n",
    "                      \"could \",\n",
    "                      \"did\", \"do\", \"each\", \"even\", \"for\", \"from\", \"further\", \"furthermore\", \"get\", \"got\", \"has\", \"had\",\n",
    "                      \"he\", \"have\", \"her\", \"here\", \"him\", \"himself\", \"his\", \"how\", \"hi\", \"however\", \"i\", \"if\", \"in\",\n",
    "                      \"into\",\n",
    "                      \"is\", \"it\", \"its\", \"indeed\", \"just\", \"like\", \"made\", \"many\", \"me\", \"might\", \"more\", \"moreover\",\n",
    "                      \"most\", \"much\", \"must\", \"my never\", \"not\", \"now of\", \"on\", \"only\", \"other\", \"our\", \"out\", \"or\",\n",
    "                      \"over\", \"said\", \"same\", \"see\", \"should\", \"since\", \"she\", \"some\", \"still\", \"such\", \"take\", \"than\",\n",
    "                      \"that\", \"the\", \"their\", \"them\", \"then\", \"there\", \"these\", \"therefore\", \"they\", \"this\", \"those\",\n",
    "                      \"through\", \"to\", \"too\", \"thus\", \"under\", \"up\", \"was\", \"way\", \"we\", \"well\", \"were\", \"what\", \"when\",\n",
    "                      \"where\", \"which\", \"while\", \"who\", \"will\", \"with\", \"would\", \"your\", \"null\"]\n",
    "        words = input_text.split()  # Split words by space\n",
    "        noise_free_words = [word for word in words if word.lower() not in noise_list]  # Get a list of non-noise words\n",
    "        noise_free_text = \" \".join(noise_free_words)  # Get a string of non-noise words\n",
    "        return noise_free_text\n",
    "\n",
    "    def remove_regex(self,input_text):\n",
    "        # split tweet by space\n",
    "        words = input_text.split()\n",
    "        regex_free_text = \"\"\n",
    "        # check if word is alpha(contain letters only) , then add it to regex_free_text\n",
    "        for word in words:\n",
    "            if word.isalpha():\n",
    "                # Lemmatization, on the other hand, is an organized & step by step procedure of obtaining\n",
    "                # the root form of the word, it makes use of vocabulary (dictionary importance of words)\n",
    "                # and morphological analysis (word structure and grammar relations).\n",
    "                # reduces the inflected words properly ensuring that the root word belongs to the language\n",
    "                # pos=\"V\"-->to give a root for each word !\n",
    "                regex_free_text += self.lemmatizer_object.lemmatize(word, pos=\"v\")  # V Msdr\n",
    "                regex_free_text += \" \"\n",
    "        return regex_free_text\n",
    "\n",
    "    def readFile(self,filename):\n",
    "        my_file = open(filename, encoding=\"utf-8\")\n",
    "        # return value of csv file is an iterator\n",
    "        read = csv.reader(my_file, delimiter='\\t')\n",
    "        # splitting = read.split('\\t')\n",
    "        flag = 0\n",
    "        # flag ---> used to skip the header of the file\n",
    "        # column one for tweets , column 2 for our ouput(NOT or OFF)\n",
    "        for row in read:\n",
    "            if flag == 0:\n",
    "                flag = 1\n",
    "                continue;\n",
    "            self.tweets.append(row[1])\n",
    "            self.labels.append(row[2])\n",
    "\n",
    "    def divide_data_set(self):\n",
    "        # loop for each tweet remove regex & noise\n",
    "        for tweet in range(0, len(self.tweets)):\n",
    "            self.tweets[tweet] = Preprocessing.remove_regex(self,self.tweets[tweet])\n",
    "            self.tweets[tweet] = Preprocessing.remove_noise(self,self.tweets[tweet])\n",
    "        # we have to divide our dataset into 2 parts (training data and test data)\n",
    "        lenofLabel = (int)(len(self.labels) / 2)\n",
    "        self.lenofTweets = (int)(len(self.tweets) / 2)\n",
    "        self.train_labels = self.labels[:lenofLabel]\n",
    "        self.test_labels = self.labels[lenofLabel:]\n",
    "        self.train_tweets = self.tweets[:lenofLabel]\n",
    "        self.test_tweets = self.tweets[lenofLabel:]"
   ]
  },
  {
   "cell_type": "code",
   "execution_count": 8,
   "metadata": {},
   "outputs": [
    {
     "name": "stdout",
     "output_type": "stream",
     "text": [
      "Data is pre-processed\n"
     ]
    }
   ],
   "source": [
    "    prep = Preprocessing()\n",
    "    train_labels = prep.train_labels\n",
    "    test_labels = prep.test_labels\n",
    "    vectorizer = TfidfVectorizer()\n",
    "    features_train = vectorizer.fit_transform(prep.train_tweets)\n",
    "    features_test = vectorizer.transform(prep.test_tweets)\n",
    "    print(\"Data is pre-processed\")"
   ]
  },
  {
   "cell_type": "code",
   "execution_count": 15,
   "metadata": {},
   "outputs": [
    {
     "name": "stdout",
     "output_type": "stream",
     "text": [
      "2.6340180774198028\n"
     ]
    },
    {
     "data": {
      "image/png": "[encoded data removed]",
      "text/plain": [
       "<Figure size 432x288 with 1 Axes>"
      ]
     },
     "metadata": {
      "needs_background": "light"
     },
     "output_type": "display_data"
    },
    {
     "name": "stdout",
     "output_type": "stream",
     "text": [
      "0.7120845921450151\n",
      "[[3653  769]\n",
      " [1137 1061]]\n"
     ]
    }
   ],
   "source": [
    "    #SVM_Classifier\n",
    "    \"\"\"\n",
    "    C = list(np.arange(0.02,1,0.01))\n",
    "    cv_scores = []\n",
    "    for c in C:\n",
    "        clf = LinearSVC(C = c)\n",
    "        scores = cross_val_score(clf, features_test, train_labels, cv = 5, scoring = 'accuracy')\n",
    "        cv_scores.append(scores.mean())\n",
    "    MSE = [abs(1 - x) for x in cv_scores]\n",
    "    optimal_c = C[MSE.index(min(MSE))]\n",
    "    plt.plot(C, MSE)\n",
    "    plt.xlabel('C')\n",
    "    plt.ylabel('Misclassification Error')\n",
    "    plt.show()\n",
    "    print(\"Optimal C: \" + str(optimal_c))\n",
    "    # bn3ml training 3la train data (bn build our method 3aleha )\n",
    "    # f b3ml object mn classifier bt3i w b3den fit de bt3ml train lal data bt3ty\n",
    "    # tol---> nesbt el error el masbo7 beha el lw wsl 3ndha aw 2al yw2f w my7rksh el separator\n",
    "    # random_state is the seed used by the random number generator\n",
    "    # linear SVC da shbh precepton\n",
    "    clf = LinearSVC(C = optimal_c,random_state=0, tol=1e-5)\n",
    "    clf.fit(features_train, train_labels)\n",
    "    output_labels = clf.predict(features_test)\n",
    "    # b predict b2a 3la test data bt3ty 3shn agib accuracy bt3t classifier da\n",
    "    print(accuracy_score(output_labels, test_labels))\n",
    "    print(confusion_matrix(test_labels, output_labels))\n",
    "    \"\"\"\n",
    "    np.set_printoptions(formatter={'float_kind':lambda x: \"%.4f\" % x})\n",
    "    ls = LinearSVC()\n",
    "    ls_random = RandomizedSearchCV(estimator = ls, param_distributions = {'C': expon()}, n_iter = 50, cv = 5, verbose=0)\n",
    "    ls_random.fit(features_train, train_labels)     \n",
    "    scores=[]\n",
    "    Cs=[]\n",
    "    finalC=[]\n",
    "    scores=list(lr_random.cv_results_['mean_test_score'])\n",
    "    Cs=list(lr_random.cv_results_['params'])\n",
    "    for c in Cs:\n",
    "        if 'C' in c:\n",
    "            finalC.append(c['C'])\n",
    "   # print(scores)\n",
    "   # print(finalC)\n",
    "    ordered_Cs = []\n",
    "    ordered_scores = []\n",
    "    d = {finalC[i] : scores[i] for i in range(0,len(finalC))}\n",
    "    optimal_c = -1\n",
    "    max_acc = -1\n",
    "    for k,v in collections.OrderedDict(sorted(d.items())).items():\n",
    "        ordered_Cs.append(k)\n",
    "        ordered_scores.append(v)\n",
    "        if v >= max_acc:\n",
    "            optimal_c = k\n",
    "    print(optimal_c)\n",
    "    plt.plot(ordered_Cs, ordered_scores)\n",
    "    plt.xlabel('Value of C')\n",
    "    plt.ylabel('Score')\n",
    "    plt.show()\n",
    "    #Rowan parameters ---->\n",
    "    clf = LinearSVC(C = optimal_c,random_state=0, tol=1e-5)\n",
    "    clf.fit(features_train, train_labels)\n",
    "    output_labels = clf.predict(features_test)\n",
    "    print(accuracy_score(output_labels, test_labels))\n",
    "    print(confusion_matrix(test_labels, output_labels))\n",
    "    "
   ]
  },
  {
   "cell_type": "code",
   "execution_count": 13,
   "metadata": {},
   "outputs": [
    {
     "name": "stderr",
     "output_type": "stream",
     "text": [
      "/home/smsm/anaconda3/lib/python3.7/site-packages/sklearn/linear_model/logistic.py:432: FutureWarning: Default solver will be changed to 'lbfgs' in 0.22. Specify a solver to silence this warning.\n",
      "  FutureWarning)\n"
     ]
    },
    {
     "name": "stdout",
     "output_type": "stream",
     "text": [
      "{'C': 1.5519403690643132}\n",
      "0.7277945619335348\n"
     ]
    },
    {
     "data": {
      "image/png": "[encoded data removed]",
      "text/plain": [
       "<Figure size 432x288 with 1 Axes>"
      ]
     },
     "metadata": {
      "needs_background": "light"
     },
     "output_type": "display_data"
    },
    {
     "name": "stdout",
     "output_type": "stream",
     "text": [
      "0.739274924471299\n",
      "[[4174  248]\n",
      " [1478  720]]\n"
     ]
    }
   ],
   "source": [
    "    #Logistic Regression Classifier\n",
    "    np.set_printoptions(formatter={'float_kind':lambda x: \"%.4f\" % x})\n",
    "    lr = LogisticRegression()\n",
    "    lr_params = {'C': expon()}\n",
    "    lr_random = RandomizedSearchCV(estimator = lr, param_distributions = lr_params, n_iter = 50, cv = 5, verbose=0)\n",
    "    lr_random.fit(features_train, train_labels)\n",
    "    print(lr_random.best_params_)\n",
    "    print(lr_random.best_score_)      \n",
    "    scores=[]\n",
    "    Cs=[]\n",
    "    finalC=[]\n",
    "    scores=list(lr_random.cv_results_['mean_test_score'])\n",
    "    Cs=list(lr_random.cv_results_['params'])\n",
    "    for c in Cs:\n",
    "        if 'C' in c:\n",
    "            finalC.append(c['C'])\n",
    "   # print(scores)\n",
    "   # print(finalC)\n",
    "    ordered_Cs = []\n",
    "    ordered_scores = []\n",
    "    d = {finalC[i] : scores[i] for i in range(0,len(finalC))}\n",
    "    for k,v in collections.OrderedDict(sorted(d.items())).items():\n",
    "        ordered_Cs.append(k)\n",
    "        ordered_scores.append(v)\n",
    "    plt.plot(ordered_Cs, ordered_scores)\n",
    "    plt.xlabel('Value of C')\n",
    "    plt.ylabel('Score')\n",
    "    plt.show()\n",
    "    #Rowan parameters ---->       \n",
    "    clf = LogisticRegression(C=1.4, solver='liblinear', multi_class='auto')\n",
    "    clf.fit(features_train, train_labels)\n",
    "    output_labels = clf.predict(features_test)\n",
    "    print(accuracy_score(output_labels, test_labels))\n",
    "    print(confusion_matrix(test_labels, output_labels))"
   ]
  },
  {
   "cell_type": "code",
   "execution_count": 6,
   "metadata": {},
   "outputs": [
    {
     "ename": "KeyboardInterrupt",
     "evalue": "",
     "output_type": "error",
     "traceback": [
      "\u001b[0;31m---------------------------------------------------------------------------\u001b[0m",
      "\u001b[0;31mKeyboardInterrupt\u001b[0m                         Traceback (most recent call last)",
      "\u001b[0;32m<ipython-input-6-31c7e48f6538>\u001b[0m in \u001b[0;36m<module>\u001b[0;34m()\u001b[0m\n\u001b[1;32m     31\u001b[0m random_state=42, n_jobs=-1, refit=True)\n\u001b[1;32m     32\u001b[0m \u001b[0;31m# Fit the random search models\u001b[0m\u001b[0;34m\u001b[0m\u001b[0;34m\u001b[0m\u001b[0m\n\u001b[0;32m---> 33\u001b[0;31m \u001b[0mrf_random\u001b[0m\u001b[0;34m.\u001b[0m\u001b[0mfit\u001b[0m\u001b[0;34m(\u001b[0m\u001b[0mfeatures_train\u001b[0m\u001b[0;34m,\u001b[0m \u001b[0mtrain_labels\u001b[0m\u001b[0;34m)\u001b[0m\u001b[0;34m\u001b[0m\u001b[0m\n\u001b[0m\u001b[1;32m     34\u001b[0m \u001b[0mprint\u001b[0m\u001b[0;34m(\u001b[0m\u001b[0mrf_random\u001b[0m\u001b[0;34m.\u001b[0m\u001b[0mbest_params_\u001b[0m\u001b[0;34m)\u001b[0m\u001b[0;34m\u001b[0m\u001b[0m\n\u001b[1;32m     35\u001b[0m \u001b[0;31m#Merna's parameters ---->\u001b[0m\u001b[0;34m\u001b[0m\u001b[0;34m\u001b[0m\u001b[0m\n",
      "\u001b[0;32m~/anaconda3/lib/python3.7/site-packages/sklearn/model_selection/_search.py\u001b[0m in \u001b[0;36mfit\u001b[0;34m(self, X, y, groups, **fit_params)\u001b[0m\n\u001b[1;32m    720\u001b[0m                 \u001b[0;32mreturn\u001b[0m \u001b[0mresults_container\u001b[0m\u001b[0;34m[\u001b[0m\u001b[0;36m0\u001b[0m\u001b[0;34m]\u001b[0m\u001b[0;34m\u001b[0m\u001b[0m\n\u001b[1;32m    721\u001b[0m \u001b[0;34m\u001b[0m\u001b[0m\n\u001b[0;32m--> 722\u001b[0;31m             \u001b[0mself\u001b[0m\u001b[0;34m.\u001b[0m\u001b[0m_run_search\u001b[0m\u001b[0;34m(\u001b[0m\u001b[0mevaluate_candidates\u001b[0m\u001b[0;34m)\u001b[0m\u001b[0;34m\u001b[0m\u001b[0m\n\u001b[0m\u001b[1;32m    723\u001b[0m \u001b[0;34m\u001b[0m\u001b[0m\n\u001b[1;32m    724\u001b[0m         \u001b[0mresults\u001b[0m \u001b[0;34m=\u001b[0m \u001b[0mresults_container\u001b[0m\u001b[0;34m[\u001b[0m\u001b[0;36m0\u001b[0m\u001b[0;34m]\u001b[0m\u001b[0;34m\u001b[0m\u001b[0m\n",
      "\u001b[0;32m~/anaconda3/lib/python3.7/site-packages/sklearn/model_selection/_search.py\u001b[0m in \u001b[0;36m_run_search\u001b[0;34m(self, evaluate_candidates)\u001b[0m\n\u001b[1;32m   1513\u001b[0m         evaluate_candidates(ParameterSampler(\n\u001b[1;32m   1514\u001b[0m             \u001b[0mself\u001b[0m\u001b[0;34m.\u001b[0m\u001b[0mparam_distributions\u001b[0m\u001b[0;34m,\u001b[0m \u001b[0mself\u001b[0m\u001b[0;34m.\u001b[0m\u001b[0mn_iter\u001b[0m\u001b[0;34m,\u001b[0m\u001b[0;34m\u001b[0m\u001b[0m\n\u001b[0;32m-> 1515\u001b[0;31m             random_state=self.random_state))\n\u001b[0m",
      "\u001b[0;32m~/anaconda3/lib/python3.7/site-packages/sklearn/model_selection/_search.py\u001b[0m in \u001b[0;36mevaluate_candidates\u001b[0;34m(candidate_params)\u001b[0m\n\u001b[1;32m    709\u001b[0m                                \u001b[0;32mfor\u001b[0m \u001b[0mparameters\u001b[0m\u001b[0;34m,\u001b[0m \u001b[0;34m(\u001b[0m\u001b[0mtrain\u001b[0m\u001b[0;34m,\u001b[0m \u001b[0mtest\u001b[0m\u001b[0;34m)\u001b[0m\u001b[0;34m\u001b[0m\u001b[0m\n\u001b[1;32m    710\u001b[0m                                in product(candidate_params,\n\u001b[0;32m--> 711\u001b[0;31m                                           cv.split(X, y, groups)))\n\u001b[0m\u001b[1;32m    712\u001b[0m \u001b[0;34m\u001b[0m\u001b[0m\n\u001b[1;32m    713\u001b[0m                 \u001b[0mall_candidate_params\u001b[0m\u001b[0;34m.\u001b[0m\u001b[0mextend\u001b[0m\u001b[0;34m(\u001b[0m\u001b[0mcandidate_params\u001b[0m\u001b[0;34m)\u001b[0m\u001b[0;34m\u001b[0m\u001b[0m\n",
      "\u001b[0;32m~/anaconda3/lib/python3.7/site-packages/sklearn/externals/joblib/parallel.py\u001b[0m in \u001b[0;36m__call__\u001b[0;34m(self, iterable)\u001b[0m\n\u001b[1;32m    992\u001b[0m \u001b[0;34m\u001b[0m\u001b[0m\n\u001b[1;32m    993\u001b[0m             \u001b[0;32mwith\u001b[0m \u001b[0mself\u001b[0m\u001b[0;34m.\u001b[0m\u001b[0m_backend\u001b[0m\u001b[0;34m.\u001b[0m\u001b[0mretrieval_context\u001b[0m\u001b[0;34m(\u001b[0m\u001b[0;34m)\u001b[0m\u001b[0;34m:\u001b[0m\u001b[0;34m\u001b[0m\u001b[0m\n\u001b[0;32m--> 994\u001b[0;31m                 \u001b[0mself\u001b[0m\u001b[0;34m.\u001b[0m\u001b[0mretrieve\u001b[0m\u001b[0;34m(\u001b[0m\u001b[0;34m)\u001b[0m\u001b[0;34m\u001b[0m\u001b[0m\n\u001b[0m\u001b[1;32m    995\u001b[0m             \u001b[0;31m# Make sure that we get a last message telling us we are done\u001b[0m\u001b[0;34m\u001b[0m\u001b[0;34m\u001b[0m\u001b[0m\n\u001b[1;32m    996\u001b[0m             \u001b[0melapsed_time\u001b[0m \u001b[0;34m=\u001b[0m \u001b[0mtime\u001b[0m\u001b[0;34m.\u001b[0m\u001b[0mtime\u001b[0m\u001b[0;34m(\u001b[0m\u001b[0;34m)\u001b[0m \u001b[0;34m-\u001b[0m \u001b[0mself\u001b[0m\u001b[0;34m.\u001b[0m\u001b[0m_start_time\u001b[0m\u001b[0;34m\u001b[0m\u001b[0m\n",
      "\u001b[0;32m~/anaconda3/lib/python3.7/site-packages/sklearn/externals/joblib/parallel.py\u001b[0m in \u001b[0;36mretrieve\u001b[0;34m(self)\u001b[0m\n\u001b[1;32m    895\u001b[0m             \u001b[0;32mtry\u001b[0m\u001b[0;34m:\u001b[0m\u001b[0;34m\u001b[0m\u001b[0m\n\u001b[1;32m    896\u001b[0m                 \u001b[0;32mif\u001b[0m \u001b[0mgetattr\u001b[0m\u001b[0;34m(\u001b[0m\u001b[0mself\u001b[0m\u001b[0;34m.\u001b[0m\u001b[0m_backend\u001b[0m\u001b[0;34m,\u001b[0m \u001b[0;34m'supports_timeout'\u001b[0m\u001b[0;34m,\u001b[0m \u001b[0;32mFalse\u001b[0m\u001b[0;34m)\u001b[0m\u001b[0;34m:\u001b[0m\u001b[0;34m\u001b[0m\u001b[0m\n\u001b[0;32m--> 897\u001b[0;31m                     \u001b[0mself\u001b[0m\u001b[0;34m.\u001b[0m\u001b[0m_output\u001b[0m\u001b[0;34m.\u001b[0m\u001b[0mextend\u001b[0m\u001b[0;34m(\u001b[0m\u001b[0mjob\u001b[0m\u001b[0;34m.\u001b[0m\u001b[0mget\u001b[0m\u001b[0;34m(\u001b[0m\u001b[0mtimeout\u001b[0m\u001b[0;34m=\u001b[0m\u001b[0mself\u001b[0m\u001b[0;34m.\u001b[0m\u001b[0mtimeout\u001b[0m\u001b[0;34m)\u001b[0m\u001b[0;34m)\u001b[0m\u001b[0;34m\u001b[0m\u001b[0m\n\u001b[0m\u001b[1;32m    898\u001b[0m                 \u001b[0;32melse\u001b[0m\u001b[0;34m:\u001b[0m\u001b[0;34m\u001b[0m\u001b[0m\n\u001b[1;32m    899\u001b[0m                     \u001b[0mself\u001b[0m\u001b[0;34m.\u001b[0m\u001b[0m_output\u001b[0m\u001b[0;34m.\u001b[0m\u001b[0mextend\u001b[0m\u001b[0;34m(\u001b[0m\u001b[0mjob\u001b[0m\u001b[0;34m.\u001b[0m\u001b[0mget\u001b[0m\u001b[0;34m(\u001b[0m\u001b[0;34m)\u001b[0m\u001b[0;34m)\u001b[0m\u001b[0;34m\u001b[0m\u001b[0m\n",
      "\u001b[0;32m~/anaconda3/lib/python3.7/site-packages/sklearn/externals/joblib/_parallel_backends.py\u001b[0m in \u001b[0;36mwrap_future_result\u001b[0;34m(future, timeout)\u001b[0m\n\u001b[1;32m    513\u001b[0m         AsyncResults.get from multiprocessing.\"\"\"\n\u001b[1;32m    514\u001b[0m         \u001b[0;32mtry\u001b[0m\u001b[0;34m:\u001b[0m\u001b[0;34m\u001b[0m\u001b[0m\n\u001b[0;32m--> 515\u001b[0;31m             \u001b[0;32mreturn\u001b[0m \u001b[0mfuture\u001b[0m\u001b[0;34m.\u001b[0m\u001b[0mresult\u001b[0m\u001b[0;34m(\u001b[0m\u001b[0mtimeout\u001b[0m\u001b[0;34m=\u001b[0m\u001b[0mtimeout\u001b[0m\u001b[0;34m)\u001b[0m\u001b[0;34m\u001b[0m\u001b[0m\n\u001b[0m\u001b[1;32m    516\u001b[0m         \u001b[0;32mexcept\u001b[0m \u001b[0mLokyTimeoutError\u001b[0m\u001b[0;34m:\u001b[0m\u001b[0;34m\u001b[0m\u001b[0m\n\u001b[1;32m    517\u001b[0m             \u001b[0;32mraise\u001b[0m \u001b[0mTimeoutError\u001b[0m\u001b[0;34m(\u001b[0m\u001b[0;34m)\u001b[0m\u001b[0;34m\u001b[0m\u001b[0m\n",
      "\u001b[0;32m~/anaconda3/lib/python3.7/site-packages/sklearn/externals/joblib/externals/loky/_base.py\u001b[0m in \u001b[0;36mresult\u001b[0;34m(self, timeout)\u001b[0m\n\u001b[1;32m    424\u001b[0m                 \u001b[0;32mreturn\u001b[0m \u001b[0mself\u001b[0m\u001b[0;34m.\u001b[0m\u001b[0m__get_result\u001b[0m\u001b[0;34m(\u001b[0m\u001b[0;34m)\u001b[0m\u001b[0;34m\u001b[0m\u001b[0m\n\u001b[1;32m    425\u001b[0m \u001b[0;34m\u001b[0m\u001b[0m\n\u001b[0;32m--> 426\u001b[0;31m             \u001b[0mself\u001b[0m\u001b[0;34m.\u001b[0m\u001b[0m_condition\u001b[0m\u001b[0;34m.\u001b[0m\u001b[0mwait\u001b[0m\u001b[0;34m(\u001b[0m\u001b[0mtimeout\u001b[0m\u001b[0;34m)\u001b[0m\u001b[0;34m\u001b[0m\u001b[0m\n\u001b[0m\u001b[1;32m    427\u001b[0m \u001b[0;34m\u001b[0m\u001b[0m\n\u001b[1;32m    428\u001b[0m             \u001b[0;32mif\u001b[0m \u001b[0mself\u001b[0m\u001b[0;34m.\u001b[0m\u001b[0m_state\u001b[0m \u001b[0;32min\u001b[0m \u001b[0;34m[\u001b[0m\u001b[0mCANCELLED\u001b[0m\u001b[0;34m,\u001b[0m \u001b[0mCANCELLED_AND_NOTIFIED\u001b[0m\u001b[0;34m]\u001b[0m\u001b[0;34m:\u001b[0m\u001b[0;34m\u001b[0m\u001b[0m\n",
      "\u001b[0;32m~/anaconda3/lib/python3.7/threading.py\u001b[0m in \u001b[0;36mwait\u001b[0;34m(self, timeout)\u001b[0m\n\u001b[1;32m    294\u001b[0m         \u001b[0;32mtry\u001b[0m\u001b[0;34m:\u001b[0m    \u001b[0;31m# restore state no matter what (e.g., KeyboardInterrupt)\u001b[0m\u001b[0;34m\u001b[0m\u001b[0m\n\u001b[1;32m    295\u001b[0m             \u001b[0;32mif\u001b[0m \u001b[0mtimeout\u001b[0m \u001b[0;32mis\u001b[0m \u001b[0;32mNone\u001b[0m\u001b[0;34m:\u001b[0m\u001b[0;34m\u001b[0m\u001b[0m\n\u001b[0;32m--> 296\u001b[0;31m                 \u001b[0mwaiter\u001b[0m\u001b[0;34m.\u001b[0m\u001b[0macquire\u001b[0m\u001b[0;34m(\u001b[0m\u001b[0;34m)\u001b[0m\u001b[0;34m\u001b[0m\u001b[0m\n\u001b[0m\u001b[1;32m    297\u001b[0m                 \u001b[0mgotit\u001b[0m \u001b[0;34m=\u001b[0m \u001b[0;32mTrue\u001b[0m\u001b[0;34m\u001b[0m\u001b[0m\n\u001b[1;32m    298\u001b[0m             \u001b[0;32melse\u001b[0m\u001b[0;34m:\u001b[0m\u001b[0;34m\u001b[0m\u001b[0m\n",
      "\u001b[0;31mKeyboardInterrupt\u001b[0m: "
     ]
    }
   ],
   "source": [
    "    #Random-Forest Classifier\n",
    "    \n",
    "    # Number of trees in random forest\n",
    "    n_estimators = [int(x) for x in np.linspace(start = 200, stop = 2000, num = 10)]\n",
    "    # Number of features to consider at every split\n",
    "    max_features = ['auto', 'sqrt']\n",
    "    # Maximum number of levels in tree\n",
    "    max_depth = [int(x) for x in np.linspace(10, 110, num = 11)]\n",
    "    max_depth.append(None)\n",
    "    # Minimum number of samples required to split a node\n",
    "    min_samples_split = [2, 5, 10]\n",
    "    # Minimum number of samples required at each leaf node\n",
    "    min_samples_leaf = [1, 2, 4]\n",
    "    # Method of selecting samples for training each tree\n",
    "    bootstrap = [True, False]\n",
    "    # Create the random grid\n",
    "    random_grid = {'n_estimators': n_estimators,\n",
    "                   'max_features': max_features,\n",
    "                   'max_depth': max_depth,\n",
    "                   'min_samples_split': min_samples_split,\n",
    "                   'min_samples_leaf': min_samples_leaf,\n",
    "                   'bootstrap': bootstrap}\n",
    "    \n",
    "    # Use the random grid to search for best hyperparameters\n",
    "    # First create the base model to tune\n",
    "    rf = RandomForestClassifier()\n",
    "    # Random search of parameters, using 3 fold cross validation, \n",
    "    # search across 100 different combinations, and use all available cores\n",
    "    #cv---> 3dad el folds , n_iter kam combination ygrbha , estimator eh hwa classifier el 7y3ml tuning , n_jobs 3dad el cores                 el 7ysh3'lha verbose--->btktb m3lomat 3n running\n",
    "    rf_random = RandomizedSearchCV(estimator = rf, param_distributions = random_grid, n_iter = 50, cv = 4, verbose=0,              \n",
    "    random_state=42, n_jobs=-1, refit=True)\n",
    "    # Fit the random search models\n",
    "    rf_random.fit(features_train, train_labels)\n",
    "    print(rf_random.best_params_)\n",
    "    #Merna's parameters ---->\n",
    "    clf = RandomForestClassifier(n_estimators=600,min_samples_split = 2, min_samples_leaf = 2,max_features = 'sqrt',         \n",
    "    max_depth = 110)\n",
    "    clf.fit(features_train, labels_train)  \n",
    "    output_labels = clf.predict(features_test)\n",
    "    print(accuracy_score(output_labels, test_labels))\n",
    "    print(confusion_matrix(test_labels, output_labels))"
   ]
  },
  {
   "cell_type": "code",
   "execution_count": null,
   "metadata": {},
   "outputs": [],
   "source": [
    "    #Naive-Bayes Classifier\n",
    "    clf = MultinomialNB()\n",
    "    clf.fit(features_train, train_labels)\n",
    "    output_labels = clf.predict(features_test)\n",
    "    print(accuracy_score(output_labels, test_labels))\n",
    "    print(confusion_matrix(test_labels, output_labels))"
   ]
  },
  {
   "cell_type": "code",
   "execution_count": null,
   "metadata": {},
   "outputs": [],
   "source": [
    "    #KNN Classifier\n",
    "    neighbors = list(range(1,50))\n",
    "    cv_scores = []\n",
    "    for k in neighbors:\n",
    "        knn = KNeighborsClassifier(n_neighbors=k)\n",
    "        scores = cross_val_score(knn, features_train, train_labels, cv=10, scoring='accuracy')\n",
    "        cv_scores.append(scores.mean())\n",
    "    MSE = [1 - x for x in cv_scores]\n",
    "    optimal_k = neighbors[MSE.index(min(MSE))]\n",
    "    print(optimal_k)\n",
    "    plt.plot(neighbors, MSE)\n",
    "    plt.xlabel('Number of Neighbors K')\n",
    "    plt.ylabel('Misclassification Error')\n",
    "    plt.show()\n",
    "    clf = KNeighborsClassifier(n_neighbors = optimal_k)\n",
    "    clf.fit(features_train, train_labels)\n",
    "    output_labels = clf.predict(features_test)\n",
    "    print(accuracy_score(output_labels,test_labels))\n",
    "    print(confusion_matrix(test_labels, output_labels))"
   ]
  },
  {
   "cell_type": "code",
   "execution_count": null,
   "metadata": {},
   "outputs": [],
   "source": [
    "    #Decision-Trees Classifier\n",
    "    depth = list(range(1,100))\n",
    "    cv_scores_gini = []\n",
    "    cv_scores_entropy = []\n",
    "    ans = \"\"\n",
    "    for m in depth:\n",
    "        dt_gini = DecisionTreeClassifier(max_depth = m)\n",
    "        dt_entropy = DecisionTreeClassifier(criterion = 'entropy',max_depth = m)\n",
    "        scores_gini = cross_val_score(dt_gini, features_train, train_labels, cv=5, scoring='accuracy')\n",
    "        scores_entropy = cross_val_score(dt_gini, features_train, train_labels, cv=5, scoring='accuracy')\n",
    "        cv_scores_gini.append(scores_gini.mean())\n",
    "        cv_scores_entropy.append(scores_entropy.mean())\n",
    "    MSE_entropy = [1 - x for x in cv_scores_entropy]\n",
    "    MSE_gini = [1 - x for x in cv_scores_gini]\n",
    "    optimal_d_entropy = depth[MSE_entropy.index(min(MSE_entropy))]\n",
    "    optimal_d_gini = depth[MSE_gini.index(min(MSE_gini))]\n",
    "    if(optimal_d_entropy >= optimal_d_gini):\n",
    "        print(\"Entropy: \" + str(optimal_d_entropy) + \"\\n\")\n",
    "        ans = \"entropy\"\n",
    "    else:\n",
    "        print(\"Gini: \" + str(optimal_d_gini) + \"\\n\")\n",
    "        ans = \"gini\"\n",
    "    plot1, = plt.plot(depth, MSE_entropy, label ='Entropy')\n",
    "    plt.xlabel('Tree depth')\n",
    "    plt.ylabel('Misclassification Error')\n",
    "    plt.show()\n",
    "    plot2, = plt.plot(depth, MSE_gini, 'r+', label = 'Gini')\n",
    "    plt.xlabel('Tree depth')\n",
    "    plt.ylabel('Misclassification Error')\n",
    "    plt.legend(handles=[plot1, plot2])\n",
    "    plt.show()\n",
    "    tree_clf = DecisionTreeClassifier(criterion = str(ans) , max_depth = int(max([optimal_d_entropy,optimal_d_gini])))\n",
    "    tree_clf.fit(features_train, train_labels)\n",
    "    output_labels = tree_clf.predict(features_test)\n",
    "    print(accuracy_score(output_labels,test_labels))\n",
    "    print(confusion_matrix(test_labels, output_labels))\n"
   ]
  },
  {
   "cell_type": "code",
   "execution_count": null,
   "metadata": {},
   "outputs": [],
   "source": []
  }
 ],
 "metadata": {
  "kernelspec": {
   "display_name": "Python 3",
   "language": "python",
   "name": "python3"
  },
  "language_info": {
   "codemirror_mode": {
    "name": "ipython",
    "version": 3
   },
   "file_extension": ".py",
   "mimetype": "text/x-python",
   "name": "python",
   "nbconvert_exporter": "python",
   "pygments_lexer": "ipython3",
   "version": "3.7.0"
  }
 },
 "nbformat": 4,
 "nbformat_minor": 2
}
